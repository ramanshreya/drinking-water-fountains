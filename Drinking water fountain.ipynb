{
 "cells": [
  {
   "cell_type": "markdown",
   "id": "af4018d2",
   "metadata": {},
   "source": [
    "# Cleaning Manually Collected Data On Drinking Water Fountains In Granada\n",
    "\n",
    "In July 2022, I manually collated geospatial location of 20 drinking water fountains in Granada, Spain. I used this notebook to clean the csv that I could export from google maps to create columns for latitude and longitude"
   ]
  },
  {
   "cell_type": "code",
   "execution_count": 1,
   "id": "f4ec446d",
   "metadata": {},
   "outputs": [],
   "source": [
    "import pandas as pd\n",
    "import numpy as np"
   ]
  },
  {
   "cell_type": "code",
   "execution_count": 2,
   "id": "f9824bfe",
   "metadata": {},
   "outputs": [],
   "source": [
    "df=pd.read_csv(\"data/Water_fountains.csv\")"
   ]
  },
  {
   "cell_type": "code",
   "execution_count": 5,
   "id": "edf2bf38",
   "metadata": {},
   "outputs": [
    {
     "data": {
      "text/html": [
       "<div>\n",
       "<style scoped>\n",
       "    .dataframe tbody tr th:only-of-type {\n",
       "        vertical-align: middle;\n",
       "    }\n",
       "\n",
       "    .dataframe tbody tr th {\n",
       "        vertical-align: top;\n",
       "    }\n",
       "\n",
       "    .dataframe thead th {\n",
       "        text-align: right;\n",
       "    }\n",
       "</style>\n",
       "<table border=\"1\" class=\"dataframe\">\n",
       "  <thead>\n",
       "    <tr style=\"text-align: right;\">\n",
       "      <th></th>\n",
       "      <th>Title</th>\n",
       "      <th>Note</th>\n",
       "      <th>URL</th>\n",
       "      <th>Comment</th>\n",
       "    </tr>\n",
       "  </thead>\n",
       "  <tbody>\n",
       "    <tr>\n",
       "      <th>0</th>\n",
       "      <td>Dropped pin</td>\n",
       "      <td>NaN</td>\n",
       "      <td>https://www.google.com/maps/search/37.1799517,...</td>\n",
       "      <td>NaN</td>\n",
       "    </tr>\n",
       "    <tr>\n",
       "      <th>1</th>\n",
       "      <td>Dropped pin</td>\n",
       "      <td>NaN</td>\n",
       "      <td>https://www.google.com/maps/search/37.1745585,...</td>\n",
       "      <td>NaN</td>\n",
       "    </tr>\n",
       "    <tr>\n",
       "      <th>2</th>\n",
       "      <td>Dropped pin</td>\n",
       "      <td>NaN</td>\n",
       "      <td>https://www.google.com/maps/search/37.1757398,...</td>\n",
       "      <td>NaN</td>\n",
       "    </tr>\n",
       "    <tr>\n",
       "      <th>3</th>\n",
       "      <td>Dropped pin</td>\n",
       "      <td>NaN</td>\n",
       "      <td>https://www.google.com/maps/search/37.173379,-...</td>\n",
       "      <td>NaN</td>\n",
       "    </tr>\n",
       "    <tr>\n",
       "      <th>4</th>\n",
       "      <td>Dropped pin</td>\n",
       "      <td>NaN</td>\n",
       "      <td>https://www.google.com/maps/search/37.1732892,...</td>\n",
       "      <td>NaN</td>\n",
       "    </tr>\n",
       "    <tr>\n",
       "      <th>5</th>\n",
       "      <td>Dropped pin</td>\n",
       "      <td>NaN</td>\n",
       "      <td>https://www.google.com/maps/search/37.1733622,...</td>\n",
       "      <td>NaN</td>\n",
       "    </tr>\n",
       "    <tr>\n",
       "      <th>6</th>\n",
       "      <td>Dropped pin</td>\n",
       "      <td>NaN</td>\n",
       "      <td>https://www.google.com/maps/search/37.1789668,...</td>\n",
       "      <td>NaN</td>\n",
       "    </tr>\n",
       "    <tr>\n",
       "      <th>7</th>\n",
       "      <td>Dropped pin</td>\n",
       "      <td>New</td>\n",
       "      <td>https://www.google.com/maps/search/37.1766125,...</td>\n",
       "      <td>NaN</td>\n",
       "    </tr>\n",
       "    <tr>\n",
       "      <th>8</th>\n",
       "      <td>Dropped pin</td>\n",
       "      <td>NaN</td>\n",
       "      <td>https://www.google.com/maps/search/37.1771575,...</td>\n",
       "      <td>NaN</td>\n",
       "    </tr>\n",
       "    <tr>\n",
       "      <th>9</th>\n",
       "      <td>Dropped pin</td>\n",
       "      <td>New</td>\n",
       "      <td>https://www.google.com/maps/search/37.1834953,...</td>\n",
       "      <td>NaN</td>\n",
       "    </tr>\n",
       "    <tr>\n",
       "      <th>10</th>\n",
       "      <td>Dropped pin</td>\n",
       "      <td>New</td>\n",
       "      <td>https://www.google.com/maps/search/37.1836786,...</td>\n",
       "      <td>NaN</td>\n",
       "    </tr>\n",
       "    <tr>\n",
       "      <th>11</th>\n",
       "      <td>Dropped pin</td>\n",
       "      <td>NaN</td>\n",
       "      <td>https://www.google.com/maps/search/37.17892,-3...</td>\n",
       "      <td>NaN</td>\n",
       "    </tr>\n",
       "    <tr>\n",
       "      <th>12</th>\n",
       "      <td>Dropped pin</td>\n",
       "      <td>New</td>\n",
       "      <td>https://www.google.com/maps/search/37.1786697,...</td>\n",
       "      <td>NaN</td>\n",
       "    </tr>\n",
       "    <tr>\n",
       "      <th>13</th>\n",
       "      <td>Dropped pin</td>\n",
       "      <td>Fountain</td>\n",
       "      <td>https://www.google.com/maps/search/37.178093,-...</td>\n",
       "      <td>NaN</td>\n",
       "    </tr>\n",
       "    <tr>\n",
       "      <th>14</th>\n",
       "      <td>NaN</td>\n",
       "      <td>New</td>\n",
       "      <td>https://www.google.com/maps/search/37.1788511,...</td>\n",
       "      <td>NaN</td>\n",
       "    </tr>\n",
       "    <tr>\n",
       "      <th>15</th>\n",
       "      <td>Dropped pin</td>\n",
       "      <td>NaN</td>\n",
       "      <td>https://www.google.com/maps/search/37.179547,-...</td>\n",
       "      <td>NaN</td>\n",
       "    </tr>\n",
       "    <tr>\n",
       "      <th>16</th>\n",
       "      <td>Dropped pin</td>\n",
       "      <td>NaN</td>\n",
       "      <td>https://www.google.com/maps/search/37.1795732,...</td>\n",
       "      <td>NaN</td>\n",
       "    </tr>\n",
       "    <tr>\n",
       "      <th>17</th>\n",
       "      <td>Dropped pin</td>\n",
       "      <td>NaN</td>\n",
       "      <td>https://www.google.com/maps/search/37.1786086,...</td>\n",
       "      <td>NaN</td>\n",
       "    </tr>\n",
       "    <tr>\n",
       "      <th>18</th>\n",
       "      <td>Dropped pin</td>\n",
       "      <td>NaN</td>\n",
       "      <td>https://www.google.com/maps/search/37.1766603,...</td>\n",
       "      <td>NaN</td>\n",
       "    </tr>\n",
       "    <tr>\n",
       "      <th>19</th>\n",
       "      <td>Dropped pin</td>\n",
       "      <td>NaN</td>\n",
       "      <td>https://www.google.com/maps/search/37.1785196,...</td>\n",
       "      <td>NaN</td>\n",
       "    </tr>\n",
       "  </tbody>\n",
       "</table>\n",
       "</div>"
      ],
      "text/plain": [
       "          Title      Note                                                URL  \\\n",
       "0   Dropped pin       NaN  https://www.google.com/maps/search/37.1799517,...   \n",
       "1   Dropped pin       NaN  https://www.google.com/maps/search/37.1745585,...   \n",
       "2   Dropped pin       NaN  https://www.google.com/maps/search/37.1757398,...   \n",
       "3   Dropped pin       NaN  https://www.google.com/maps/search/37.173379,-...   \n",
       "4   Dropped pin       NaN  https://www.google.com/maps/search/37.1732892,...   \n",
       "5   Dropped pin       NaN  https://www.google.com/maps/search/37.1733622,...   \n",
       "6   Dropped pin       NaN  https://www.google.com/maps/search/37.1789668,...   \n",
       "7   Dropped pin       New  https://www.google.com/maps/search/37.1766125,...   \n",
       "8   Dropped pin       NaN  https://www.google.com/maps/search/37.1771575,...   \n",
       "9   Dropped pin       New  https://www.google.com/maps/search/37.1834953,...   \n",
       "10  Dropped pin       New  https://www.google.com/maps/search/37.1836786,...   \n",
       "11  Dropped pin       NaN  https://www.google.com/maps/search/37.17892,-3...   \n",
       "12  Dropped pin       New  https://www.google.com/maps/search/37.1786697,...   \n",
       "13  Dropped pin  Fountain  https://www.google.com/maps/search/37.178093,-...   \n",
       "14          NaN       New  https://www.google.com/maps/search/37.1788511,...   \n",
       "15  Dropped pin       NaN  https://www.google.com/maps/search/37.179547,-...   \n",
       "16  Dropped pin       NaN  https://www.google.com/maps/search/37.1795732,...   \n",
       "17  Dropped pin       NaN  https://www.google.com/maps/search/37.1786086,...   \n",
       "18  Dropped pin       NaN  https://www.google.com/maps/search/37.1766603,...   \n",
       "19  Dropped pin       NaN  https://www.google.com/maps/search/37.1785196,...   \n",
       "\n",
       "    Comment  \n",
       "0       NaN  \n",
       "1       NaN  \n",
       "2       NaN  \n",
       "3       NaN  \n",
       "4       NaN  \n",
       "5       NaN  \n",
       "6       NaN  \n",
       "7       NaN  \n",
       "8       NaN  \n",
       "9       NaN  \n",
       "10      NaN  \n",
       "11      NaN  \n",
       "12      NaN  \n",
       "13      NaN  \n",
       "14      NaN  \n",
       "15      NaN  \n",
       "16      NaN  \n",
       "17      NaN  \n",
       "18      NaN  \n",
       "19      NaN  "
      ]
     },
     "execution_count": 5,
     "metadata": {},
     "output_type": "execute_result"
    }
   ],
   "source": [
    "df"
   ]
  },
  {
   "cell_type": "markdown",
   "id": "3ce76098",
   "metadata": {},
   "source": [
    "The exported data had 4 columns called 'Title', 'Note', 'URL' and 'Comment'. The latitude and longitude data was hidden in the list of urls in the 'URL' column. Using string extract and regular expression to extract data and add columns with longitude and latitude data"
   ]
  },
  {
   "cell_type": "code",
   "execution_count": 3,
   "id": "13b52434",
   "metadata": {},
   "outputs": [],
   "source": [
    "df['location']=df.URL.str.extract(\"https://www.google.com/maps/search/(.*)\")"
   ]
  },
  {
   "cell_type": "code",
   "execution_count": 4,
   "id": "301153ea",
   "metadata": {},
   "outputs": [],
   "source": [
    "df['longitude']=df.location.str.extract(\".*,(.*)\")"
   ]
  },
  {
   "cell_type": "code",
   "execution_count": 5,
   "id": "20ee36e7",
   "metadata": {},
   "outputs": [],
   "source": [
    "df['latitude']=df.location.str.extract(\"(.*),.*\")"
   ]
  },
  {
   "cell_type": "markdown",
   "id": "d8fc4962",
   "metadata": {},
   "source": [
    "Deleting columns that I don't need and renaming the keys and the name of the Note column to 'Type'"
   ]
  },
  {
   "cell_type": "code",
   "execution_count": 6,
   "id": "ccd81a3f",
   "metadata": {},
   "outputs": [],
   "source": [
    "df.Note=df.Note.replace(np.nan, \"Old\")"
   ]
  },
  {
   "cell_type": "code",
   "execution_count": 7,
   "id": "f637c968",
   "metadata": {},
   "outputs": [],
   "source": [
    "df=df.drop(columns=\"Title\")\n",
    "df=df.drop(columns=\"URL\")\n",
    "df=df.drop(columns=\"Comment\")"
   ]
  },
  {
   "cell_type": "code",
   "execution_count": 8,
   "id": "8e5b7c36",
   "metadata": {},
   "outputs": [],
   "source": [
    "df=df.rename(columns={\n",
    "    \"Note\": \"Type\"\n",
    "})"
   ]
  },
  {
   "cell_type": "markdown",
   "id": "bb38c48b",
   "metadata": {},
   "source": [
    "Saving the cleaned file as a csv"
   ]
  },
  {
   "cell_type": "code",
   "execution_count": 9,
   "id": "a0f72896",
   "metadata": {},
   "outputs": [],
   "source": [
    "df.to_csv(\"Water_fountains_clean.csv\", index=False)"
   ]
  }
 ],
 "metadata": {
  "kernelspec": {
   "display_name": "Python 3 (ipykernel)",
   "language": "python",
   "name": "python3"
  },
  "language_info": {
   "codemirror_mode": {
    "name": "ipython",
    "version": 3
   },
   "file_extension": ".py",
   "mimetype": "text/x-python",
   "name": "python",
   "nbconvert_exporter": "python",
   "pygments_lexer": "ipython3",
   "version": "3.10.3"
  }
 },
 "nbformat": 4,
 "nbformat_minor": 5
}
